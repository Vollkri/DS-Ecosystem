{
 "cells": [
  {
   "cell_type": "markdown",
   "id": "dc33ac68-61a4-4681-91a1-ebadef9fe454",
   "metadata": {},
   "source": [
    "# Data Science Tools and Ecosystem"
   ]
  },
  {
   "cell_type": "markdown",
   "id": "50f032d0-eb8f-4606-b472-b66d076f7e0c",
   "metadata": {},
   "source": [
    "In this notebook, Data Science Tools and Ecosystem are summarized."
   ]
  },
  {
   "cell_type": "markdown",
   "id": "a53825e7-92c4-4ea9-978f-92189132890c",
   "metadata": {
    "tags": []
   },
   "source": [
    "**Objectives:**"
   ]
  },
  {
   "cell_type": "markdown",
   "id": "277900cb-9877-4cb8-855d-ff1752611678",
   "metadata": {},
   "source": [
    "Popular Languages for Data Science"
   ]
  },
  {
   "cell_type": "markdown",
   "id": "8ab23019-dd14-48f3-8ff1-513067b3f9de",
   "metadata": {},
   "source": [
    "* Python\n",
    "* SQL \n",
    "* R \n",
    "* JavaScript \n",
    "* Scala"
   ]
  },
  {
   "cell_type": "markdown",
   "id": "42c59298-a4b8-450c-921d-96704f012cce",
   "metadata": {},
   "source": [
    "Some of the popular languages that Data Scientists use are:\n",
    "1. Python, 2. SQL, 3. R"
   ]
  },
  {
   "cell_type": "markdown",
   "id": "eed853e7-a646-4b90-bc5b-bf90244bb1a1",
   "metadata": {},
   "source": [
    "Some of the commonly used libraries used by Data Scientists include:"
   ]
  },
  {
   "cell_type": "markdown",
   "id": "b3446b7a-7440-428e-a077-b9f70e76f598",
   "metadata": {},
   "source": [
    "1.NumPy 2.Keras 3.Pandas 4.PyTorch 5.SciPy 6.Scikit-Learn 7.TensorFlow 8.Matplotlib"
   ]
  },
  {
   "cell_type": "markdown",
   "id": "a1ac4f41-068d-433b-9359-801ce128bcf5",
   "metadata": {},
   "source": [
    "| Data Science Tools |\n",
    "----------------------\n",
    "| RStudio |\n",
    "| Apache Spark |\n",
    "| TensorFlow |"
   ]
  },
  {
   "cell_type": "markdown",
   "id": "c86b483b-eb05-490f-b9a0-6ec8d1f3638d",
   "metadata": {},
   "source": []
  },
  {
   "cell_type": "markdown",
   "id": "68c0af40-e507-400b-ac6f-46c4e3f095a3",
   "metadata": {},
   "source": [
    "### Below are a few examples of evaluating arithmetic expressions in Python."
   ]
  },
  {
   "cell_type": "markdown",
   "id": "8a0af776-fe8d-41a0-b8c4-898b10bf3264",
   "metadata": {},
   "source": [
    "This a simple arithmetic expression to mutiply then add integers."
   ]
  },
  {
   "cell_type": "code",
   "execution_count": 4,
   "id": "03472c1c-49c7-44f0-b5ff-131c5e4767a4",
   "metadata": {
    "tags": []
   },
   "outputs": [
    {
     "data": {
      "text/plain": [
       "17"
      ]
     },
     "execution_count": 4,
     "metadata": {},
     "output_type": "execute_result"
    }
   ],
   "source": [
    "(3*4)+5"
   ]
  },
  {
   "cell_type": "markdown",
   "id": "a24352c5-fb45-448d-89ed-c93c4bab15fd",
   "metadata": {},
   "source": [
    "This will convert 200 minutes to hours by diving by 60."
   ]
  },
  {
   "cell_type": "code",
   "execution_count": 5,
   "id": "a2cd0dfc-8dc8-4530-8b1f-861203a58158",
   "metadata": {
    "tags": []
   },
   "outputs": [
    {
     "data": {
      "text/plain": [
       "3.3333333333333335"
      ]
     },
     "execution_count": 5,
     "metadata": {},
     "output_type": "execute_result"
    }
   ],
   "source": [
    "200/60"
   ]
  },
  {
   "cell_type": "markdown",
   "id": "8d7f2d6a-6bc4-40eb-94d8-06bfd9337838",
   "metadata": {},
   "source": [
    "## Author"
   ]
  },
  {
   "cell_type": "markdown",
   "id": "98fba2a9-98dd-4b59-82d0-f0efb30638f1",
   "metadata": {},
   "source": [
    "K Vollen"
   ]
  },
  {
   "cell_type": "code",
   "execution_count": null,
   "id": "22cb9ff8-8b7e-4dc5-999e-dc0dabca599d",
   "metadata": {},
   "outputs": [],
   "source": []
  }
 ],
 "metadata": {
  "kernelspec": {
   "display_name": "Python",
   "language": "python",
   "name": "conda-env-python-py"
  },
  "language_info": {
   "codemirror_mode": {
    "name": "ipython",
    "version": 3
   },
   "file_extension": ".py",
   "mimetype": "text/x-python",
   "name": "python",
   "nbconvert_exporter": "python",
   "pygments_lexer": "ipython3",
   "version": "3.7.12"
  }
 },
 "nbformat": 4,
 "nbformat_minor": 5
}
